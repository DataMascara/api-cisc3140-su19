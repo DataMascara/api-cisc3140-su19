{
 "cells": [
  {
   "cell_type": "markdown",
   "metadata": {},
   "source": [
    "# The Backend"
   ]
  },
  {
   "cell_type": "code",
   "execution_count": 36,
   "metadata": {},
   "outputs": [],
   "source": [
    "import requests\n",
    "import json\n",
    "from bs4 import BeautifulSoup\n",
    "\n",
    "headers = {\"Content-Type\": \"application/json\"}"
   ]
  },
  {
   "cell_type": "markdown",
   "metadata": {},
   "source": [
    "### The environment\n",
    "\n",
    "#### Systems Engineering\n",
    "--- In order to properly design the structure of the environment that our application will live on we first had to decide the applications requirements.\n",
    "\n",
    "###### The requirements\n",
    "\n",
    "* Support Python 3.6 --- Database team had designed module using strict 3.6 requirements\n",
    "* Run two applications --- One application for rendering Jinja templates and the other for serving the API data\n",
    "* Integrate CI support --- Having two applications required extreme precision when deploying code\n",
    "* Publicly available --- SSH, HTTP, and HTTPS Ports forwarded\n",
    "* Git --- Ability to interact with GitHub repo\n",
    "\n",
    "##### Thinking through the solutions\n",
    "\n",
    "1. raspberry-pi\n",
    "    * Python 3.6 had to be installed and configured, this wasn't a huge deal but if done incorrectly could destroy our server.\n",
    "    * Running two applications was simple enough it only required us to select two seperate ports to run flask on, however due to the fact that the hardware was minimal flask ran very slow which then made our applications run slow. Our server had the following specs; 1 core, 512MB memory, and 64GB SD storage.\n",
    "    * Integrating CI support was there but not with technology we wanted to use causing us to have to learn something hence viable time most likely being wasted\n",
    "    * It was however easily made publicly available due to the fact that I was the network administrator so opening ports 80, 443, 22, and 23 were easy to do.\n",
    "    * GitHub support comes with the raspbian flavor of linux so this was no issue.\n",
    "    \n",
    "\n",
    "2. Google App Engine\n",
    "    * Python 3.6 was not supported but some hacker-ish modifications could be made but this was not ideal at all\n",
    "    * Running two applications was simple, just set up two GAE projects\n",
    "    * CI Support with TravisCI available\n",
    "    * Publicly available once deployed to the cloud\n",
    "    * GitHub support came with the environment\n",
    "    \n",
    "\n",
    "3. Heroku\n",
    "    * Python 3.6 support included\n",
    "    * Running two applications was simple, just set up two Heroku projects\n",
    "    * CI Support with TravisCI available\n",
    "    * Publicly available once deployed to Heroku environment\n",
    "    * GitHub support came with the environment\n",
    "    \n",
    "\n",
    "###### The solution winner\n",
    "\n",
    "### Heroku !\n",
    "\n",
    "##### API\n",
    "https://bc-api-class.herokuapp.com/\n",
    "\n",
    "##### Application\n",
    "https://bc-app-class.herokuapp.com/login/"
   ]
  },
  {
   "cell_type": "markdown",
   "metadata": {},
   "source": [
    "#### Two talking applications --- API and Application (with cookie sessions)"
   ]
  },
  {
   "cell_type": "code",
   "execution_count": 74,
   "metadata": {},
   "outputs": [],
   "source": [
    "# Let's check it out! --- API\n",
    "\n",
    "response = requests.get(\"https://bc-api-class.herokuapp.com/\")\n",
    "data = json.loads(response.content)\n",
    "data[\"msg\"]"
   ]
  },
  {
   "cell_type": "raw",
   "metadata": {},
   "source": [
    "# Login --- With sessions! --- Application\n",
    "\n",
    "payload = {\n",
    "    \"username\":\"andrewandrew\",\n",
    "    \"password\":\"FOOLFOOLFOOL\"\n",
    "}\n",
    "\n",
    "session = requests.Session()\n",
    "response = session.post(\"https://bc-app-class.herokuapp.com/login/\", data=payload)\n",
    "print(response)\n",
    "print()\n",
    "print(session.cookies.get_dict())"
   ]
  },
  {
   "cell_type": "markdown",
   "metadata": {},
   "source": [
    "#### Let's use just the API to change my email address!"
   ]
  },
  {
   "cell_type": "raw",
   "metadata": {},
   "source": [
    "# Find my email on the user profile page! --- API\n",
    "\n",
    "payload = json.dumps({\n",
    "    \"username\":\"andrewandrew\",\n",
    "})\n",
    "\n",
    "response = session.get(\"https://bc-api-class.herokuapp.com/user/\", data=payload, headers=headers)\n",
    "print(response)\n",
    "data = json.loads(response.content)\n",
    "oldemail = data[\"user\"][0][\"email\"]\n",
    "oldemail"
   ]
  },
  {
   "cell_type": "raw",
   "metadata": {},
   "source": [
    "# Let's use the API to change my email! --- API\n",
    "\n",
    "payload = json.dumps({\n",
    "    \"username\":\"andrewandrew\",\n",
    "    \"field\":\"email\",\n",
    "    \"value\":\"this@different.com\"\n",
    "})\n",
    "\n",
    "response = session.put(\"https://bc-api-class.herokuapp.com/update/\", data=payload, headers=headers)\n",
    "data = json.loads(response.content)\n",
    "data[\"msg\"]"
   ]
  },
  {
   "cell_type": "raw",
   "metadata": {},
   "source": [
    "# Check my email again to see changes --- Application\n",
    "\n",
    "payload = json.dumps({\n",
    "    \"username\":\"andrewandrew\",\n",
    "})\n",
    "\n",
    "response = session.get(\"https://bc-api-class.herokuapp.com/user/\", data=payload, headers=headers)\n",
    "print(response)\n",
    "data = json.loads(response.content)\n",
    "newemail = data[\"user\"][0][\"email\"]\n",
    "newemail"
   ]
  },
  {
   "cell_type": "code",
   "execution_count": null,
   "metadata": {},
   "outputs": [],
   "source": [
    "print(\"Old email was\", oldemail)\n",
    "print(\"New email is\", newemail)"
   ]
  },
  {
   "cell_type": "markdown",
   "metadata": {},
   "source": [
    "### Talking applications\n",
    "\n",
    "#### Software Development\n",
    "--- The workflow of our two applications is simple but presented a few challenges along the way, here is a breakdown of that communication.\n",
    "\n",
    "1. The user lands on a rendered page by the application built for rendering templates and interacts with it as expected.\n",
    "2. Any form method that gets invoked is packaged and sent as a POST or GET request to the API application which then responds how you saw in the above example.\n",
    "3. A response is served back to the application which then renderes an appropriate template along with any possible data from the API\n",
    "\n",
    "--- The workflow !\n",
    "![workflow](AppWorkflow.png \"Workflow\")"
   ]
  },
  {
   "cell_type": "code",
   "execution_count": null,
   "metadata": {},
   "outputs": [],
   "source": []
  }
 ],
 "metadata": {
  "kernelspec": {
   "display_name": "Python 3",
   "language": "python",
   "name": "python3"
  },
  "language_info": {
   "codemirror_mode": {
    "name": "ipython",
    "version": 3
   },
   "file_extension": ".py",
   "mimetype": "text/x-python",
   "name": "python",
   "nbconvert_exporter": "python",
   "pygments_lexer": "ipython3",
   "version": "3.7.3"
  }
 },
 "nbformat": 4,
 "nbformat_minor": 2
}
